{
 "cells": [
  {
   "cell_type": "code",
   "execution_count": 2,
   "metadata": {},
   "outputs": [],
   "source": [
    "%load_ext autoreload\n",
    "%autoreload 2"
   ]
  },
  {
   "cell_type": "code",
   "execution_count": 11,
   "metadata": {},
   "outputs": [],
   "source": [
    "import numpy as np\n",
    "import sys\n",
    "from ObjectDetectionModel import ObjectDectection\n",
    "import cv2\n",
    "from matplotlib import pyplot as plt\n",
    "from ObjectDetectionGenerator import ObjectDetectionGenerator, get_train_val_annotations_split"
   ]
  },
  {
   "cell_type": "markdown",
   "metadata": {},
   "source": [
    "# Define dataset folder"
   ]
  },
  {
   "cell_type": "code",
   "execution_count": 8,
   "metadata": {},
   "outputs": [],
   "source": [
    "PASCAL_VOC_FOLDER = '/home/usuario/repos/Object_Localization/dataset/'\n",
    "PASCAL_VOC_ANNOTATIONS_FOLDER_TRAIN = PASCAL_VOC_FOLDER + 'ILSVRC/Annotations/CLS-LOC/train'\n",
    "PASCAL_VOC_ANNOTATIONS_FOLDER_VAL = PASCAL_VOC_FOLDER + 'ILSVRC/Annotations/CLS-LOC/val'\n",
    "PASCAL_VOC_IMAGES_FOLDER_TRAIN = PASCAL_VOC_FOLDER + 'ILSVRC/Data/CLS-LOC/train'\n",
    "PASCAL_VOC_IMAGES_FOLDER_VAL = PASCAL_VOC_FOLDER + 'ILSVRC/Data/CLS-LOC'"
   ]
  },
  {
   "cell_type": "markdown",
   "metadata": {},
   "source": [
    "# Model details"
   ]
  },
  {
   "cell_type": "code",
   "execution_count": null,
   "metadata": {},
   "outputs": [],
   "source": [
    "classes = ['n02165456', 'n02226429', 'n01644373', 'n02279972', 'n01632458', 'n02256656', 'n01774384', 'n01770393']\n",
    "target_size = (320,320)\n",
    "batch_size = 32\n",
    "GRID_H = IMAGE_H // 32\n",
    "GRID_W = IMAGE_W // 32\n",
    "NUMBER_OF_BBOXES = 5"
   ]
  },
  {
   "cell_type": "code",
   "execution_count": 12,
   "metadata": {},
   "outputs": [
    {
     "name": "stdout",
     "output_type": "stream",
     "text": [
      "(1/8) Class n02165456 has 717 images in train and 0 images in val\n",
      "(2/8) Class n02226429 has 717 images in train and 0 images in val\n",
      "(3/8) Class n01644373 has 683 images in train and 0 images in val\n",
      "(4/8) Class n02279972 has 669 images in train and 0 images in val\n",
      "(5/8) Class n01632458 has 714 images in train and 0 images in val\n",
      "(6/8) Class n02256656 has 664 images in train and 0 images in val\n",
      "(7/8) Class n01774384 has 659 images in train and 0 images in val\n",
      "(8/8) Class n01770393 has 620 images in train and 0 images in val\n",
      "found 5443 images in 8 classes\n"
     ]
    }
   ],
   "source": [
    "annotations_train, _ = get_train_val_annotations_split(PASCAL_VOC_ANNOTATIONS_FOLDER_TRAIN, \n",
    "                                                                     classes=classes, \n",
    "                                                                     MAX_NUMBER_OF_BBOXES_PER_CELL=NUMBER_OF_BBOXES, \n",
    "                                                                     split_ratio = 0.)"
   ]
  },
  {
   "cell_type": "code",
   "execution_count": null,
   "metadata": {},
   "outputs": [],
   "source": []
  },
  {
   "cell_type": "code",
   "execution_count": 7,
   "metadata": {},
   "outputs": [],
   "source": []
  },
  {
   "cell_type": "code",
   "execution_count": null,
   "metadata": {},
   "outputs": [],
   "source": []
  }
 ],
 "metadata": {
  "kernelspec": {
   "display_name": "Python 3",
   "language": "python",
   "name": "python3"
  },
  "language_info": {
   "codemirror_mode": {
    "name": "ipython",
    "version": 3
   },
   "file_extension": ".py",
   "mimetype": "text/x-python",
   "name": "python",
   "nbconvert_exporter": "python",
   "pygments_lexer": "ipython3",
   "version": "3.6.6"
  }
 },
 "nbformat": 4,
 "nbformat_minor": 2
}
